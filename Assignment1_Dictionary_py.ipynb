{
  "nbformat": 4,
  "nbformat_minor": 0,
  "metadata": {
    "colab": {
      "name": "Assignment1_Dictionary.py",
      "provenance": []
    },
    "kernelspec": {
      "name": "python3",
      "display_name": "Python 3"
    }
  },
  "cells": [
    {
      "cell_type": "code",
      "metadata": {
        "colab": {
          "base_uri": "https://localhost:8080/"
        },
        "id": "KsViaxCNyFVN",
        "outputId": "a6a4c256-b2bf-4d86-a4d6-9e372b071f8d"
      },
      "source": [
        "Dict = {'name':'pooja','profession':'software','hobby':'sketching'}\r\n",
        "\r\n",
        "newDict = Dict.copy()\r\n",
        "print(newDict)\r\n",
        "\r\n",
        "newDict.clear()\r\n",
        "print(newDict)\r\n",
        "\r\n",
        "newDict = dict.fromkeys(['abc','xyz','pqr'],2) # requires 2 arguments 1st iterable 2nd value\r\n",
        "print(newDict)\r\n",
        "\r\n",
        "Dict.get('name') #returns value of key if key is not in dict returns none\r\n",
        "\r\n",
        "Dict.items() # returns list of tuples of key-value pair\r\n",
        "\r\n",
        "Dict.keys() #returns list of keys\r\n",
        "\r\n",
        "Dict.pop('hobby') # removes given key and returns value, if given key is not in dict returns keyError\r\n",
        "\r\n",
        "newDict.popitem() # remove last key-value pair and returns it in tuple form\r\n",
        "\r\n",
        "Dict.setdefault('hobby','sketching') # if key is present then it replaces with new given value, if key is not present it update the dict with given key-value\r\n",
        "print(Dict)\r\n",
        "\r\n",
        "newDict.update({'gift':'book'})\r\n",
        "newDict.update(R=90)\r\n",
        "print(newDict)\r\n",
        "\r\n",
        "newDict.values() # returns list of values"
      ],
      "execution_count": null,
      "outputs": [
        {
          "output_type": "stream",
          "text": [
            "{'name': 'pooja', 'profession': 'software', 'hobby': 'sketching'}\n",
            "{}\n",
            "{'abc': 2, 'xyz': 2, 'pqr': 2}\n",
            "{'name': 'pooja', 'profession': 'software', 'hobby': 'sketching'}\n",
            "{'abc': 2, 'xyz': 2, 'gift': 'book', 'R': 90}\n"
          ],
          "name": "stdout"
        },
        {
          "output_type": "execute_result",
          "data": {
            "text/plain": [
              "dict_values([2, 2, 'book', 90])"
            ]
          },
          "metadata": {
            "tags": []
          },
          "execution_count": 12
        }
      ]
    }
  ]
}