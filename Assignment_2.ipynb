{
  "nbformat": 4,
  "nbformat_minor": 0,
  "metadata": {
    "colab": {
      "name": "Assignment_2.ipynb",
      "provenance": []
    },
    "kernelspec": {
      "name": "python3",
      "display_name": "Python 3"
    }
  },
  "cells": [
    {
      "cell_type": "code",
      "metadata": {
        "colab": {
          "base_uri": "https://localhost:8080/"
        },
        "id": "m_-_b8gPzfaE",
        "outputId": "b4779d17-a9a5-4771-fb7a-284a9a1d4b97"
      },
      "source": [
        "alt = int(input('Enter altitude'))\r\n",
        "\r\n",
        "if alt <= 1000:\r\n",
        "  print('Safe to land')\r\n",
        "elif alt > 1000 and alt <= 5000:\r\n",
        "  print('Bring down to 1000')\r\n",
        "elif alt > 5000:\r\n",
        "  print('Go around and try later')"
      ],
      "execution_count": 5,
      "outputs": [
        {
          "output_type": "stream",
          "text": [
            "Enter altitude5100\n",
            "Go around and try later\n"
          ],
          "name": "stdout"
        }
      ]
    }
  ]
}