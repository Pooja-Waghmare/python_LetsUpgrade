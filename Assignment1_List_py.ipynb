{
  "nbformat": 4,
  "nbformat_minor": 0,
  "metadata": {
    "colab": {
      "name": "Assignment1_List.py",
      "provenance": [],
      "collapsed_sections": []
    },
    "kernelspec": {
      "name": "python3",
      "display_name": "Python 3"
    }
  },
  "cells": [
    {
      "cell_type": "code",
      "metadata": {
        "colab": {
          "base_uri": "https://localhost:8080/"
        },
        "id": "uUlB23FEEbds",
        "outputId": "9b132291-501a-46e1-9210-30809386cd6c"
      },
      "source": [
        "myList = ['toothbrush', 45, 'bath', 'breakfast', 234, 56.7, [\"office\", 9, 60]]\r\n",
        "\r\n",
        "# myList.index(100) # error as 100 index is not there\r\n",
        "\r\n",
        "myList.index(45) # returns the index of an given item if not in list gives value error\r\n",
        "\r\n",
        "myList.insert(2,'tea') # need 2 arguments 1st index 2nd value\r\n",
        "print(myList)\r\n",
        "\r\n",
        "myList.count('bath')  # counts the number of occurence of given value\r\n",
        "\r\n",
        "myList.append(78) # add given value at end of list\r\n",
        "print(myList)\r\n",
        "\r\n",
        "newList = myList.copy()\r\n",
        "print(newList)\r\n",
        "print(id(myList))\r\n",
        "print(id(newList))\r\n",
        "\r\n",
        "newList.clear()\r\n",
        "print(newList)\r\n",
        "\r\n",
        "myList.extend([1, 3, 4])\r\n",
        "myList.extend((3,7))\r\n",
        "print(myList)\r\n",
        "\r\n",
        "myList.reverse()\r\n",
        "print(myList)\r\n",
        "'''\r\n",
        "myList.sort()\r\n",
        "print(myList)  # error because of different data types like can't compare betn list and int\r\n",
        "'''\r\n",
        "newList = [34, 64, 23,89]\r\n",
        "newList.sort(reverse=True)\r\n",
        "print(newList)\r\n",
        "\r\n",
        "myList.pop(2)  # required to give index of item to remove\r\n",
        "print(myList)\r\n",
        "\r\n",
        "myList.remove('tea') # required to give item to remove\r\n",
        "print(myList)\r\n"
      ],
      "execution_count": null,
      "outputs": [
        {
          "output_type": "stream",
          "text": [
            "['toothbrush', 45, 'tea', 'bath', 'breakfast', 234, 56.7, ['office', 9, 60]]\n",
            "['toothbrush', 45, 'tea', 'bath', 'breakfast', 234, 56.7, ['office', 9, 60], 78]\n",
            "['toothbrush', 45, 'tea', 'bath', 'breakfast', 234, 56.7, ['office', 9, 60], 78]\n",
            "140663173715464\n",
            "140663033172808\n",
            "[]\n",
            "['toothbrush', 45, 'tea', 'bath', 'breakfast', 234, 56.7, ['office', 9, 60], 78, 1, 3, 4, 3, 7]\n",
            "[7, 3, 4, 3, 1, 78, ['office', 9, 60], 56.7, 234, 'breakfast', 'bath', 'tea', 45, 'toothbrush']\n",
            "[89, 64, 34, 23]\n",
            "[7, 3, 3, 1, 78, ['office', 9, 60], 56.7, 234, 'breakfast', 'bath', 'tea', 45, 'toothbrush']\n",
            "[7, 3, 3, 1, 78, ['office', 9, 60], 56.7, 234, 'breakfast', 'bath', 45, 'toothbrush']\n"
          ],
          "name": "stdout"
        }
      ]
    }
  ]
}